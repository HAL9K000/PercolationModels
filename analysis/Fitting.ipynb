{
 "cells": [
  {
   "cell_type": "code",
   "execution_count": 1,
   "metadata": {},
   "outputs": [],
   "source": [
    "import pickle\n",
    "import numpy as np\n",
    "import collections\n",
    "import matplotlib.pyplot as plt\n",
    "import powerlaw"
   ]
  },
  {
   "cell_type": "code",
   "execution_count": null,
   "metadata": {},
   "outputs": [],
   "source": [
    "grid_size = 1024\n",
    "density = 0.59\n",
    "replicates = [1,2,3,4,5]\n",
    "t = []\n",
    "numbers_per_replicate = 2000000\n",
    "\n",
    "for replicate in replicates:\n",
    "    filename_np = \"np_transformations_\" + str(grid_size) + \"_\" + str(density) + \"_\" + str(numbers_per_replicate) + \"_\" + str(replicate) + \".txt\"\n",
    "    with open(filename_np) as f:\n",
    "        t.extend([tuple(map(int, i.split(' '))) for i in f])    \n",
    "\n",
    "scs = [abs(i[1]-i[0]) for i in t]\n",
    "\n",
    "fit = powerlaw.Fit(scs,discrete=True,estimate_discrete = False) #If you already know xmin pass it as an argument (xmin=value) for speed  "
   ]
  },
  {
   "cell_type": "code",
   "execution_count": 4,
   "metadata": {},
   "outputs": [
    {
     "data": {
      "image/png": "[encoded data removed]",
      "text/plain": [
       "<Figure size 432x288 with 1 Axes>"
      ]
     },
     "metadata": {
      "needs_background": "light"
     },
     "output_type": "display_data"
    },
    {
     "name": "stdout",
     "output_type": "stream",
     "text": [
      "x_min:  5.0\n",
      "alpha:  1.608492481011573\n",
      "1/lambda:  224091.12666884402\n"
     ]
    },
    {
     "name": "stderr",
     "output_type": "stream",
     "text": [
      "/home/ayan/.local/lib/python3.7/site-packages/powerlaw.py:700: RuntimeWarning: divide by zero encountered in true_divide\n",
      "  (Theoretical_CDF * (1 - Theoretical_CDF))\n",
      "Assuming nested distributions\n"
     ]
    },
    {
     "name": "stdout",
     "output_type": "stream",
     "text": [
      "LR (Power Law):  71.968492338504  p-value:  0.0\n",
      "LR (Exponential):  323.7329427868806  p-value:  0.0\n",
      "LR (Log-Normal):  88.96149493998378  p-value:  0.0\n",
      "LR (Stretched-Exponential):  86.20316799473797  p-value:  0.0\n"
     ]
    }
   ],
   "source": [
    "fig = fit.plot_pdf(color ='r',linewidth=3)\n",
    "fit.truncated_power_law.plot_pdf(color='b',linestyle='--',ax=fig)\n",
    "#x = fit.xmins\n",
    "#y = fit.Ds\n",
    "plt.show()\n",
    "\n",
    "print('x_min: ',fit.xmin)\n",
    "print('alpha: ',fit.truncated_power_law.parameter1)\n",
    "print('1/lambda: ',1/fit.truncated_power_law.parameter2)\n",
    "\n",
    "\n",
    "comparison_tpl_exp = fit.distribution_compare('truncated_power_law','exponential',normalized_ratio=True)\n",
    "comparison_tpl_streched_exp = fit.distribution_compare('truncated_power_law','stretched_exponential',normalized_ratio=True)\n",
    "comparison_tpl_log_normal = fit.distribution_compare('truncated_power_law','lognormal',normalized_ratio=True)\n",
    "comparison_tpl_pl = fit.distribution_compare('truncated_power_law','power_law',normalized_ratio=True)\n",
    "\n",
    "print(\"LR (Power Law): \",comparison_tpl_pl[0],\" p-value: \",comparison_tpl_pl[1])\n",
    "print(\"LR (Exponential): \",comparison_tpl_exp[0],\" p-value: \",comparison_tpl_exp[1])\n",
    "print(\"LR (Log-Normal): \",comparison_tpl_log_normal[0],\" p-value: \",comparison_tpl_log_normal[1])\n",
    "print(\"LR (Stretched-Exponential): \",comparison_tpl_streched_exp[0],\" p-value: \",comparison_tpl_streched_exp[1])"
   ]
  }
 ],
 "metadata": {
  "kernelspec": {
   "display_name": "Python 3",
   "language": "python",
   "name": "python3"
  },
  "language_info": {
   "codemirror_mode": {
    "name": "ipython",
    "version": 3
   },
   "file_extension": ".py",
   "mimetype": "text/x-python",
   "name": "python",
   "nbconvert_exporter": "python",
   "pygments_lexer": "ipython3",
   "version": "3.7.3"
  }
 },
 "nbformat": 4,
 "nbformat_minor": 2
}
