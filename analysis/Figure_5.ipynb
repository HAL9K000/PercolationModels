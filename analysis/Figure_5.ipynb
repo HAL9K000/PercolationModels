{
 "cells": [
  {
   "cell_type": "code",
   "execution_count": 1,
   "metadata": {},
   "outputs": [],
   "source": [
    "import pickle\n",
    "import numpy as np\n",
    "import collections\n",
    "import matplotlib.pyplot as plt\n",
    "import copy\n",
    "import matplotlib.ticker as ticker\n",
    "import mpmath as mp\n",
    "from mpmath import gammainc"
   ]
  },
  {
   "cell_type": "code",
   "execution_count": 2,
   "metadata": {},
   "outputs": [],
   "source": [
    "def power_law(x,s_min, s_max, alpha):\n",
    "    C = ((1-alpha)/(s_max**(1-alpha)-s_min**(1-alpha)))\n",
    "    return [C*x[i]**(-alpha) for i in range(len(x))]\n",
    "\n",
    "def stretched_exponential(x,s_min,lamda,beta):\n",
    "    C = beta*np.exp((s_min**beta)/lamda)/lamda\n",
    "    return [C*(x[i]**(beta-1))*np.exp(-(x[i]**beta)/lamda) for i in range(len(x))]\n",
    "\n",
    "def exponential(x,s_min,lamda):\n",
    "    C = lamda*np.exp(lamda*s_min)\n",
    "    return [C*np.exp(-lamda*x[i]) for i in range(len(x))]\n",
    "\n",
    "def truncated_power_law(x,s_min,alpha,lamda):\n",
    "    C = float(((lamda)**(1-alpha))/gammainc(1-alpha, s_min*lamda))\n",
    "    return [C*(x[i]**(-alpha))*(np.exp(-lamda*x[i])) for i in range(len(x))]"
   ]
  },
  {
   "cell_type": "code",
   "execution_count": 3,
   "metadata": {},
   "outputs": [],
   "source": [
    "grid_sizes = [128,256,512,1024]\n",
    "density = 0.59\n",
    "replicates = [1,2,3,4,5]\n",
    "numbers_per_replicate = 2000000\n",
    "dpt = []\n",
    "npt = []\n",
    "dictionary = {}\n",
    "for grid_size in grid_sizes:\n",
    "    del dpt\n",
    "    del npt\n",
    "    dpt = []\n",
    "    npt = []\n",
    "    for replicate in replicates:\n",
    "        filename_dp = \"dp_transformations_\" + str(grid_size) + \"_\" + str(density) + \"_\" + str(numbers_per_replicate) + \"_\" + str(replicate) + \".txt\"\n",
    "        filename_np = \"np_transformations_\" + str(grid_size) + \"_\" + str(density) + \"_\" + str(numbers_per_replicate) + \"_\" + str(replicate) + \".txt\"\n",
    "        with open(filename_dp) as f:\n",
    "            dpt.extend([tuple(map(int, i.split(' '))) for i in f])\n",
    "        with open(filename_np) as f:\n",
    "            npt.extend([tuple(map(int, i.split(' '))) for i in f])\n",
    "\n",
    "    npscs = [abs(i[1]-i[0]) for i in npt]\n",
    "    npsc_freqs = dict(collections.Counter(npscs))\n",
    "    npsc_freqs = {k: v / (len(npscs)) for k, v in npsc_freqs.items()}\n",
    "\n",
    "    dpscs = [abs(i[1]-i[0]) for i in dpt]\n",
    "    dpsc_freqs = dict(collections.Counter(dpscs))\n",
    "    dpsc_freqs = {k: v / (len(dpscs)) for k, v in dpsc_freqs.items()}\n",
    "\n",
    "    np_lists = sorted(npsc_freqs.items()) \n",
    "    dp_lists = sorted(dpsc_freqs.items()) \n",
    "\n",
    "    np_x, np_y = zip(*np_lists)\n",
    "    dp_x, dp_y = zip(*dp_lists)\n",
    "    \n",
    "    cy_dp = []\n",
    "    cy_np = []\n",
    "    for i in range(len(dp_y)):\n",
    "        cy_dp.append(sum([dp_y[j] for j in range(i,len(dp_y))]))\n",
    "    for i in range(len(np_y)):\n",
    "        cy_np.append(sum([np_y[j] for j in range(i,len(np_y))]))\n",
    "    \n",
    "    dictionary[str(grid_size)+'_np_x'] = np_x\n",
    "    dictionary[str(grid_size)+'_dp_x'] = dp_x\n",
    "    dictionary[str(grid_size)+'_np_y'] = np_y\n",
    "    dictionary[str(grid_size)+'_dp_y'] = dp_y\n",
    "    dictionary[str(grid_size)+'_cy_dp'] = cy_dp\n",
    "    dictionary[str(grid_size)+'_cy_np'] = cy_np"
   ]
  },
  {
   "cell_type": "code",
   "execution_count": 4,
   "metadata": {},
   "outputs": [
    {
     "data": {
      "image/png": "[encoded data removed]",
      "text/plain": [
       "<Figure size 360x288 with 2 Axes>"
      ]
     },
     "metadata": {
      "needs_background": "light"
     },
     "output_type": "display_data"
    }
   ],
   "source": [
    "# Determined using the Fitting Notebook \n",
    "x_max = max(np_x)\n",
    "x_min = 5\n",
    "alpha = 1.608\n",
    "lamda = 1/224091.1\n",
    "\n",
    "x = [i for i in range(x_min,x_max+1)]\n",
    "y = truncated_power_law(x, x_min, alpha, lamda)\n",
    "A = (np_y[4]/y[0])\n",
    "y = [(np_y[4]/y[0])*i for i in y]\n",
    "\n",
    "\n",
    "fig, ax1 = plt.subplots(figsize=(5,4))\n",
    "\n",
    "# These are in unitless percentages of the figure size. (0,0 is bottom left)\n",
    "left, bottom, width, height = [0.58, 0.58, 0.3, 0.27]\n",
    "ax2 = fig.add_axes([left, bottom, width, height])\n",
    "\n",
    "\n",
    "\n",
    "ax1.scatter(dictionary['1024_dp_x'], dictionary['1024_dp_y'],s=10,marker='o',label='DP',color='red',facecolors='none')\n",
    "ax1.scatter(dictionary['1024_np_x'], dictionary['1024_np_y'],s=10,marker='d',label='P',color='black',facecolors='none')\n",
    "ax1.plot(x,y,color=\"blue\",linewidth=2,label='fit')\n",
    "ax1.set_xscale('log')\n",
    "ax1.set_yscale('log')\n",
    "ax1.set_xlabel('$|\\Delta s|$')\n",
    "ax1.set_ylabel('$P(S=|\\Delta s|)$')\n",
    "ax1.legend(loc=\"lower left\")\n",
    "ax1.set_ylim(5*10**(-8),10**(0))\n",
    "ax1.set_xlim(1,300000)\n",
    "ax1.tick_params(bottom=True,top=True,left=True,right=True)\n",
    "\n",
    "\n",
    "ax2.scatter(dictionary['1024_np_x'], dictionary['1024_cy_np'],marker='.',s=0.8,color='red',label='1024')\n",
    "ax2.scatter(dictionary['512_np_x'], dictionary['512_cy_np'],marker='.',s=0.8,color='blue',label='512')\n",
    "ax2.scatter(dictionary['256_np_x'], dictionary['256_cy_np'],marker='.',s=0.8,color='black',label='256')\n",
    "ax2.scatter(dictionary['128_np_x'], dictionary['128_cy_np'],marker='.',s=0.8,color='orange',label='128')\n",
    "ax2.set_xscale('log')\n",
    "ax2.set_yscale('log')\n",
    "ax2.set_xlabel('$|\\Delta s|$')\n",
    "ax2.set_ylabel('$P(S<|\\Delta s|)$')\n",
    "#ax2.legend(loc=\"lower left\")\n",
    "ax2.set_ylim(5*10**(-8),10**(0))\n",
    "ax2.set_xlim(1,300000)\n",
    "ax2.text(0.55, 0.85, 'P', transform=ax2.transAxes, ha=\"right\")\n",
    "ax1.set_title('$P: \\\\rho = $'+str(density))\n",
    "\n",
    "#plt.savefig(\"Figure_5.png\",dpi=300)\n",
    "\n",
    "del dictionary "
   ]
  }
 ],
 "metadata": {
  "kernelspec": {
   "display_name": "Python 3",
   "language": "python",
   "name": "python3"
  },
  "language_info": {
   "codemirror_mode": {
    "name": "ipython",
    "version": 3
   },
   "file_extension": ".py",
   "mimetype": "text/x-python",
   "name": "python",
   "nbconvert_exporter": "python",
   "pygments_lexer": "ipython3",
   "version": "3.7.3"
  }
 },
 "nbformat": 4,
 "nbformat_minor": 2
}
